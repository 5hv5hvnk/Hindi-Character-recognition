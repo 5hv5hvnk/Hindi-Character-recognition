{
  "nbformat": 4,
  "nbformat_minor": 0,
  "metadata": {
    "colab": {
      "name": "Hindi_char_rec.ipynb",
      "provenance": [],
      "authorship_tag": "ABX9TyP33BrtAs4wRZICmK+BnpJT",
      "include_colab_link": true
    },
    "kernelspec": {
      "name": "python3",
      "display_name": "Python 3"
    },
    "language_info": {
      "name": "python"
    },
    "accelerator": "GPU"
  },
  "cells": [
    {
      "cell_type": "markdown",
      "metadata": {
        "id": "view-in-github",
        "colab_type": "text"
      },
      "source": [
        "<a href=\"https://colab.research.google.com/github/5hv5hvnk/Hindi-Character-recognition/blob/master/Hindi_char_rec.ipynb\" target=\"_parent\"><img src=\"https://colab.research.google.com/assets/colab-badge.svg\" alt=\"Open In Colab\"/></a>"
      ]
    },
    {
      "cell_type": "code",
      "metadata": {
        "id": "oyqHPUVWkqK-"
      },
      "source": [
        "from numpy import loadtxt\n",
        "from xgboost import XGBClassifier\n",
        "from sklearn.model_selection import train_test_split\n",
        "from sklearn.metrics import accuracy_score\n",
        "import cv2\n",
        "import numpy as np"
      ],
      "execution_count": null,
      "outputs": []
    },
    {
      "cell_type": "code",
      "metadata": {
        "id": "1qYZEx82qoaj"
      },
      "source": [
        ""
      ],
      "execution_count": null,
      "outputs": []
    },
    {
      "cell_type": "code",
      "metadata": {
        "id": "bwUE1gS-gmhh"
      },
      "source": [
        "import os\n",
        "from PIL import Image"
      ],
      "execution_count": null,
      "outputs": []
    },
    {
      "cell_type": "code",
      "metadata": {
        "id": "PorKgYYZhwvW"
      },
      "source": [
        "x = []"
      ],
      "execution_count": null,
      "outputs": []
    },
    {
      "cell_type": "code",
      "metadata": {
        "id": "DlzdVJiiBjsH"
      },
      "source": [
        "!unzip training.zip\n",
        "# !unzip test.zip"
      ],
      "execution_count": null,
      "outputs": []
    },
    {
      "cell_type": "code",
      "metadata": {
        "id": "ETwiLmd4hZNn"
      },
      "source": [
        "files = os.listdir(\"training/background\")\n",
        "for i in files:\n",
        "  if i != '.DS_Store':\n",
        "    i = 'training/background/'+i\n",
        "    img = cv2.imread(i)\n",
        "    gray = cv2.cvtColor(img, cv2.COLOR_BGR2GRAY)\n",
        "    x.append(gray)"
      ],
      "execution_count": null,
      "outputs": []
    },
    {
      "cell_type": "code",
      "metadata": {
        "id": "yeq6p34Hg53X"
      },
      "source": [
        "files = os.listdir(\"training/hi\")\n",
        "for i in files:\n",
        "  if i != '.DS_Store':\n",
        "    i = 'training/hi/'+i\n",
        "    img = cv2.imread(i)\n",
        "    gray = cv2.cvtColor(img, cv2.COLOR_BGR2GRAY)\n",
        "    x.append(gray)"
      ],
      "execution_count": null,
      "outputs": []
    },
    {
      "cell_type": "code",
      "metadata": {
        "colab": {
          "base_uri": "https://localhost:8080/"
        },
        "id": "aQrwdLF3hObv",
        "outputId": "a1d329f5-ec3d-446e-f87d-aaddec87539d"
      },
      "source": [
        "type(x[0])"
      ],
      "execution_count": null,
      "outputs": [
        {
          "output_type": "execute_result",
          "data": {
            "text/plain": [
              "numpy.ndarray"
            ]
          },
          "metadata": {},
          "execution_count": 10
        }
      ]
    },
    {
      "cell_type": "code",
      "metadata": {
        "colab": {
          "base_uri": "https://localhost:8080/"
        },
        "id": "Gls3MkNUhPrt",
        "outputId": "5624ecd8-40c1-42df-f241-a957dff08e7c"
      },
      "source": [
        "len(x)"
      ],
      "execution_count": null,
      "outputs": [
        {
          "output_type": "execute_result",
          "data": {
            "text/plain": [
              "5875"
            ]
          },
          "metadata": {},
          "execution_count": 11
        }
      ]
    },
    {
      "cell_type": "code",
      "metadata": {
        "id": "P1H8Fq6UhUNm"
      },
      "source": [
        "x = np.array(x)"
      ],
      "execution_count": null,
      "outputs": []
    },
    {
      "cell_type": "code",
      "metadata": {
        "colab": {
          "base_uri": "https://localhost:8080/"
        },
        "id": "lquc41FohhUe",
        "outputId": "c383427f-36c6-41f1-88bc-5e149f5f2639"
      },
      "source": [
        "x.shape"
      ],
      "execution_count": null,
      "outputs": [
        {
          "output_type": "execute_result",
          "data": {
            "text/plain": [
              "(5875, 64, 64)"
            ]
          },
          "metadata": {},
          "execution_count": 13
        }
      ]
    },
    {
      "cell_type": "code",
      "metadata": {
        "id": "ES__Fk86iyuY"
      },
      "source": [
        "y = []\n",
        "for i in range(0,4450):\n",
        "  y.append(int(0)) #for bg\n",
        "for i in range(4450,5875):\n",
        "  y.append(int(1)) #for text"
      ],
      "execution_count": null,
      "outputs": []
    },
    {
      "cell_type": "code",
      "metadata": {
        "id": "8g1Y3tmgjS3R"
      },
      "source": [
        "y = np.array(y)"
      ],
      "execution_count": null,
      "outputs": []
    },
    {
      "cell_type": "code",
      "metadata": {
        "colab": {
          "base_uri": "https://localhost:8080/"
        },
        "id": "LEqhE8cwjUzn",
        "outputId": "7530dbdb-dfed-48f3-c3c9-c78ce6e75db9"
      },
      "source": [
        "y.shape"
      ],
      "execution_count": null,
      "outputs": [
        {
          "output_type": "execute_result",
          "data": {
            "text/plain": [
              "(5875,)"
            ]
          },
          "metadata": {},
          "execution_count": 16
        }
      ]
    },
    {
      "cell_type": "code",
      "metadata": {
        "id": "n3TWh5s3jVmv"
      },
      "source": [
        "x_train, x_test, y_train, y_test = train_test_split(x, y, test_size=0.30, random_state=314)"
      ],
      "execution_count": null,
      "outputs": []
    },
    {
      "cell_type": "code",
      "metadata": {
        "colab": {
          "base_uri": "https://localhost:8080/"
        },
        "id": "ejZtzfimjoiT",
        "outputId": "01dbdf39-f658-4dea-95b1-db72ccd01ee8"
      },
      "source": [
        "x_train.shape"
      ],
      "execution_count": null,
      "outputs": [
        {
          "output_type": "execute_result",
          "data": {
            "text/plain": [
              "TensorShape([5875, 128, 128, 1])"
            ]
          },
          "metadata": {},
          "execution_count": 24
        }
      ]
    },
    {
      "cell_type": "code",
      "metadata": {
        "colab": {
          "base_uri": "https://localhost:8080/"
        },
        "id": "xNE1S2H-jqWi",
        "outputId": "4fd345fc-c186-451b-e16d-39050ad80d50"
      },
      "source": [
        "# y_train.shape"
      ],
      "execution_count": null,
      "outputs": [
        {
          "output_type": "execute_result",
          "data": {
            "text/plain": [
              "(4700,)"
            ]
          },
          "metadata": {},
          "execution_count": 16
        }
      ]
    },
    {
      "cell_type": "code",
      "metadata": {
        "id": "u881gibskJLA"
      },
      "source": [
        "from google.colab.patches import cv2_imshow"
      ],
      "execution_count": null,
      "outputs": []
    },
    {
      "cell_type": "code",
      "metadata": {
        "colab": {
          "base_uri": "https://localhost:8080/",
          "height": 80
        },
        "id": "ZWvWK8wdjr4m",
        "outputId": "618744d7-55e8-452d-c4b1-36ca04c0336c"
      },
      "source": [
        "cv2_imshow(x[1])"
      ],
      "execution_count": null,
      "outputs": [
        {
          "output_type": "display_data",
          "data": {
            "image/png": "[encoded data removed]",
            "text/plain": [
              "<PIL.Image.Image image mode=L size=64x64 at 0x7F824753B050>"
            ]
          },
          "metadata": {}
        }
      ]
    },
    {
      "cell_type": "code",
      "metadata": {
        "colab": {
          "base_uri": "https://localhost:8080/"
        },
        "id": "mx3K9hPmj0Ve",
        "outputId": "47af800b-609e-44bb-f186-849a80d5c4ad"
      },
      "source": [
        "y[1]"
      ],
      "execution_count": null,
      "outputs": [
        {
          "output_type": "execute_result",
          "data": {
            "text/plain": [
              "0"
            ]
          },
          "metadata": {},
          "execution_count": 19
        }
      ]
    },
    {
      "cell_type": "code",
      "metadata": {
        "id": "hvk6xQi02BSX"
      },
      "source": [
        "x = x.reshape(-1,64,64,1)\n",
        "# x_test = x_test.reshape(-1,64,64,1)"
      ],
      "execution_count": null,
      "outputs": []
    },
    {
      "cell_type": "code",
      "metadata": {
        "id": "mbfEt-Rfk0lY"
      },
      "source": [
        "from tensorflow.keras import datasets, layers, models\n",
        "import tensorflow as tf\n",
        "import keras\n",
        "from tensorflow.keras.optimizers import Adam\n",
        "from tensorflow.keras import regularizers\n",
        "from keras.layers import UpSampling2D"
      ],
      "execution_count": null,
      "outputs": []
    },
    {
      "cell_type": "code",
      "metadata": {
        "id": "Kt645zMgpy5K"
      },
      "source": [
        "X_train = tf.keras.layers.UpSampling2D(size=(2, 2))(x)"
      ],
      "execution_count": null,
      "outputs": []
    },
    {
      "cell_type": "code",
      "metadata": {
        "colab": {
          "base_uri": "https://localhost:8080/"
        },
        "id": "PIoobYk8r5Vt",
        "outputId": "62649f4f-acb0-4923-cba5-00d7b1d51c0c"
      },
      "source": [
        "X_train.shape"
      ],
      "execution_count": null,
      "outputs": [
        {
          "output_type": "execute_result",
          "data": {
            "text/plain": [
              "TensorShape([5875, 128, 128, 1])"
            ]
          },
          "metadata": {},
          "execution_count": 28
        }
      ]
    },
    {
      "cell_type": "code",
      "metadata": {
        "colab": {
          "base_uri": "https://localhost:8080/"
        },
        "id": "GEWq-Zssr9lX",
        "outputId": "98f7ea5e-0386-432c-ccd0-0cbf5c91fb9e"
      },
      "source": [
        "y.shape"
      ],
      "execution_count": null,
      "outputs": [
        {
          "output_type": "execute_result",
          "data": {
            "text/plain": [
              "(5875,)"
            ]
          },
          "metadata": {},
          "execution_count": 29
        }
      ]
    },
    {
      "cell_type": "code",
      "metadata": {
        "id": "eRd1RGKkkaxz"
      },
      "source": [
        "cnn = models.Sequential([\n",
        "    layers.Conv2D(filters=64, kernel_size=(3, 3), activation='relu', input_shape=(128, 128,1)), #layer 1\n",
        "    layers.MaxPooling2D((2, 2)),\n",
        "    layers.Dropout(0.25),\n",
        "\n",
        "    layers.Conv2D(filters=64, kernel_size=(3, 3), activation='relu'), #layer 2\n",
        "    layers.MaxPooling2D((2, 2)),\n",
        "    layers.Dropout(0.25),\n",
        "    \n",
        "    layers.Conv2D(filters=64, kernel_size=(3, 3), activation='relu'), #layer 3\n",
        "    layers.MaxPooling2D((2, 2)),\n",
        "    layers.Dropout(0.25),\n",
        "    \n",
        "    layers.Conv2D(filters=64, kernel_size=(3, 3), activation='relu'), #layer 4\n",
        "    layers.MaxPooling2D((2, 2)),\n",
        "\n",
        "    layers.Flatten(),\n",
        "    # layers.Dense(80, activation='relu'), ##reducing nodes\n",
        "    layers.Dense(\n",
        "    units=64,\n",
        "    kernel_regularizer=regularizers.l1_l2(l1=1e-5, l2=1e-4),\n",
        "    bias_regularizer=regularizers.l2(1e-4),\n",
        "    activity_regularizer=regularizers.l2(1e-5)),\n",
        "    layers.Dense(80, activation='relu'), ##reducing nodes\n",
        "    layers.Dense(30, activation='relu'), ##reducing nodes\n",
        "    layers.Dropout(0.3),\n",
        "    layers.Dense(1, activation='sigmoid')\n",
        "])\n",
        "# lr_schedule = keras.optimizers.schedules.ExponentialDecay(\n",
        "#     initial_learning_rate=1e-2,\n",
        "#     decay_steps=10000,\n",
        "#     decay_rate=0.9)\n",
        "opt = Adam(learning_rate=0.001)\n",
        "cnn.compile(optimizer=opt, \n",
        "              loss='binary_crossentropy',\n",
        "              metrics=['accuracy'])"
      ],
      "execution_count": null,
      "outputs": []
    },
    {
      "cell_type": "code",
      "metadata": {
        "colab": {
          "base_uri": "https://localhost:8080/"
        },
        "id": "FDWfXe_Ll2yp",
        "outputId": "3bb9adb3-f4f4-4de9-cbb3-0e4fd72233f9"
      },
      "source": [
        "cnn.fit(X_train, y, epochs=50, batch_size = 64)"
      ],
      "execution_count": null,
      "outputs": [
        {
          "output_type": "stream",
          "name": "stdout",
          "text": [
            "Epoch 1/50\n",
            "92/92 [==============================] - 4s 44ms/step - loss: 0.4817 - accuracy: 0.8165\n",
            "Epoch 2/50\n",
            "92/92 [==============================] - 4s 44ms/step - loss: 0.3243 - accuracy: 0.9074\n",
            "Epoch 3/50\n",
            "92/92 [==============================] - 4s 44ms/step - loss: 0.2832 - accuracy: 0.9271\n",
            "Epoch 4/50\n",
            "92/92 [==============================] - 4s 44ms/step - loss: 0.2583 - accuracy: 0.9370\n",
            "Epoch 5/50\n",
            "92/92 [==============================] - 4s 44ms/step - loss: 0.2343 - accuracy: 0.9416\n",
            "Epoch 6/50\n",
            "92/92 [==============================] - 4s 43ms/step - loss: 0.2472 - accuracy: 0.9386\n",
            "Epoch 7/50\n",
            "92/92 [==============================] - 4s 43ms/step - loss: 0.2343 - accuracy: 0.9423\n",
            "Epoch 8/50\n",
            "92/92 [==============================] - 4s 44ms/step - loss: 0.2089 - accuracy: 0.9510\n",
            "Epoch 9/50\n",
            "92/92 [==============================] - 4s 44ms/step - loss: 0.2162 - accuracy: 0.9474\n",
            "Epoch 10/50\n",
            "92/92 [==============================] - 4s 44ms/step - loss: 0.1750 - accuracy: 0.9591\n",
            "Epoch 11/50\n",
            "92/92 [==============================] - 4s 44ms/step - loss: 0.1986 - accuracy: 0.9527\n",
            "Epoch 12/50\n",
            "92/92 [==============================] - 4s 44ms/step - loss: 0.1674 - accuracy: 0.9612\n",
            "Epoch 13/50\n",
            "92/92 [==============================] - 4s 44ms/step - loss: 0.1608 - accuracy: 0.9685\n",
            "Epoch 14/50\n",
            "92/92 [==============================] - 4s 44ms/step - loss: 0.1460 - accuracy: 0.9675\n",
            "Epoch 15/50\n",
            "92/92 [==============================] - 4s 44ms/step - loss: 0.1317 - accuracy: 0.9751\n",
            "Epoch 16/50\n",
            "92/92 [==============================] - 4s 44ms/step - loss: 0.1189 - accuracy: 0.9784\n",
            "Epoch 17/50\n",
            "92/92 [==============================] - 4s 44ms/step - loss: 0.1288 - accuracy: 0.9760\n",
            "Epoch 18/50\n",
            "92/92 [==============================] - 4s 44ms/step - loss: 0.1241 - accuracy: 0.9767\n",
            "Epoch 19/50\n",
            "92/92 [==============================] - 4s 44ms/step - loss: 0.1082 - accuracy: 0.9809\n",
            "Epoch 20/50\n",
            "92/92 [==============================] - 4s 44ms/step - loss: 0.1279 - accuracy: 0.9765\n",
            "Epoch 21/50\n",
            "92/92 [==============================] - 4s 44ms/step - loss: 0.1233 - accuracy: 0.9751\n",
            "Epoch 22/50\n",
            "92/92 [==============================] - 4s 44ms/step - loss: 0.1049 - accuracy: 0.9809\n",
            "Epoch 23/50\n",
            "92/92 [==============================] - 4s 44ms/step - loss: 0.1012 - accuracy: 0.9831\n",
            "Epoch 24/50\n",
            "92/92 [==============================] - 4s 44ms/step - loss: 0.1003 - accuracy: 0.9852\n",
            "Epoch 25/50\n",
            "92/92 [==============================] - 4s 44ms/step - loss: 0.0982 - accuracy: 0.9849\n",
            "Epoch 26/50\n",
            "92/92 [==============================] - 4s 44ms/step - loss: 0.0966 - accuracy: 0.9855\n",
            "Epoch 27/50\n",
            "92/92 [==============================] - 4s 44ms/step - loss: 0.0825 - accuracy: 0.9898\n",
            "Epoch 28/50\n",
            "92/92 [==============================] - 4s 44ms/step - loss: 0.0933 - accuracy: 0.9869\n",
            "Epoch 29/50\n",
            "92/92 [==============================] - 4s 44ms/step - loss: 0.1010 - accuracy: 0.9857\n",
            "Epoch 30/50\n",
            "92/92 [==============================] - 4s 44ms/step - loss: 0.0875 - accuracy: 0.9891\n",
            "Epoch 31/50\n",
            "92/92 [==============================] - 4s 44ms/step - loss: 0.0854 - accuracy: 0.9886\n",
            "Epoch 32/50\n",
            "92/92 [==============================] - 4s 44ms/step - loss: 0.0910 - accuracy: 0.9864\n",
            "Epoch 33/50\n",
            "92/92 [==============================] - 4s 44ms/step - loss: 0.0862 - accuracy: 0.9888\n",
            "Epoch 34/50\n",
            "92/92 [==============================] - 4s 44ms/step - loss: 0.0693 - accuracy: 0.9935\n",
            "Epoch 35/50\n",
            "92/92 [==============================] - 4s 44ms/step - loss: 0.0800 - accuracy: 0.9888\n",
            "Epoch 36/50\n",
            "92/92 [==============================] - 4s 44ms/step - loss: 0.1247 - accuracy: 0.9796\n",
            "Epoch 37/50\n",
            "92/92 [==============================] - 4s 44ms/step - loss: 0.0829 - accuracy: 0.9900\n",
            "Epoch 38/50\n",
            "92/92 [==============================] - 4s 44ms/step - loss: 0.0791 - accuracy: 0.9893\n",
            "Epoch 39/50\n",
            "92/92 [==============================] - 4s 44ms/step - loss: 0.0751 - accuracy: 0.9911\n",
            "Epoch 40/50\n",
            "92/92 [==============================] - 4s 44ms/step - loss: 0.0656 - accuracy: 0.9934\n",
            "Epoch 41/50\n",
            "92/92 [==============================] - 4s 44ms/step - loss: 0.0971 - accuracy: 0.9854\n",
            "Epoch 42/50\n",
            "92/92 [==============================] - 4s 44ms/step - loss: 0.0771 - accuracy: 0.9894\n",
            "Epoch 43/50\n",
            "92/92 [==============================] - 4s 44ms/step - loss: 0.0878 - accuracy: 0.9877\n",
            "Epoch 44/50\n",
            "92/92 [==============================] - 4s 44ms/step - loss: 0.0655 - accuracy: 0.9930\n",
            "Epoch 45/50\n",
            "92/92 [==============================] - 4s 44ms/step - loss: 0.0765 - accuracy: 0.9920\n",
            "Epoch 46/50\n",
            "92/92 [==============================] - 4s 44ms/step - loss: 0.0604 - accuracy: 0.9954\n",
            "Epoch 47/50\n",
            "92/92 [==============================] - 4s 44ms/step - loss: 0.0721 - accuracy: 0.9920\n",
            "Epoch 48/50\n",
            "92/92 [==============================] - 4s 44ms/step - loss: 0.0635 - accuracy: 0.9937\n",
            "Epoch 49/50\n",
            "92/92 [==============================] - 4s 44ms/step - loss: 0.0658 - accuracy: 0.9935\n",
            "Epoch 50/50\n",
            "92/92 [==============================] - 4s 44ms/step - loss: 0.0661 - accuracy: 0.9927\n"
          ]
        },
        {
          "output_type": "execute_result",
          "data": {
            "text/plain": [
              "<keras.callbacks.History at 0x7f81f01f9ed0>"
            ]
          },
          "metadata": {},
          "execution_count": 30
        }
      ]
    },
    {
      "cell_type": "code",
      "metadata": {
        "id": "eg6tn641mPS5"
      },
      "source": [
        "# from tensorflow.keras import regularizers"
      ],
      "execution_count": null,
      "outputs": []
    },
    {
      "cell_type": "code",
      "metadata": {
        "id": "nj5i2noMmoJd"
      },
      "source": [
        "# cnn_l1 = models.Sequential([\n",
        "#     layers.Conv2D(filters=64, kernel_size=(3, 3), activation='relu', input_shape=(64, 64,1)), #layer 1\n",
        "#     layers.MaxPooling2D((2, 2)),\n",
        "#     layers.Dropout(0.25),\n",
        "\n",
        "#     layers.Conv2D(filters=64, kernel_size=(3, 3), activation='relu'), #layer 2\n",
        "#     layers.MaxPooling2D((2, 2)),\n",
        "#     layers.Dropout(0.25),\n",
        "    \n",
        "#     layers.Conv2D(filters=64, kernel_size=(3, 3), activation='relu'), #layer 3\n",
        "#     layers.MaxPooling2D((2, 2)),\n",
        "#     layers.Dropout(0.25),\n",
        "    \n",
        "#     layers.Conv2D(filters=64, kernel_size=(3, 3), activation='relu'), #layer 4\n",
        "#     layers.MaxPooling2D((2, 2)),\n",
        "\n",
        "#     layers.Flatten(),\n",
        "#     # layers.Dense(80, activation='relu'), ##reducing nodes\n",
        "#     layers.Dense(\n",
        "#     units=64,\n",
        "#     kernel_regularizer=regularizers.l1_l2(l1=1e-5, l2=1e-4),\n",
        "#     bias_regularizer=regularizers.l2(1e-4),\n",
        "#     activity_regularizer=regularizers.l2(1e-5)),\n",
        "#     layers.Dense(80, activation='relu'), ##reducing nodes\n",
        "#     layers.Dense(30, activation='relu'), ##reducing nodes\n",
        "#     layers.Dropout(0.3),\n",
        "#     layers.Dense(1, activation='sigmoid')\n",
        "# ])\n",
        "# # lr_schedule = keras.optimizers.schedules.ExponentialDecay(\n",
        "# #     initial_learning_rate=1e-2,\n",
        "# #     decay_steps=10000,\n",
        "# #     decay_rate=0.9)\n",
        "# opt = Adam(learning_rate=0.001)\n",
        "# cnn_l1.compile(optimizer=opt, \n",
        "#               loss='binary_crossentropy',\n",
        "#               metrics=['accuracy'])"
      ],
      "execution_count": null,
      "outputs": []
    },
    {
      "cell_type": "code",
      "metadata": {
        "id": "dRhmJ_w0moTD"
      },
      "source": [
        "# cnn_l1.fit(x_train, y_train, epochs=50, batch_size = 64, validation_data=(x_test, y_test))"
      ],
      "execution_count": null,
      "outputs": []
    },
    {
      "cell_type": "code",
      "metadata": {
        "id": "DWqZ3gLUmofy"
      },
      "source": [
        ""
      ],
      "execution_count": null,
      "outputs": []
    },
    {
      "cell_type": "code",
      "metadata": {
        "id": "91QFf4545Jng"
      },
      "source": [
        "# test_data = []\n",
        "# files = os.listdir(\"test\")\n",
        "# for i in files:\n",
        "#   if i != '.DS_Store':\n",
        "#     i = 'test/'+i\n",
        "#     img = cv2.imread(i)\n",
        "#     gray = cv2.cvtColor(img, cv2.COLOR_BGR2GRAY)\n",
        "#     test_data.append(gray)"
      ],
      "execution_count": null,
      "outputs": []
    },
    {
      "cell_type": "code",
      "metadata": {
        "id": "Lmrmkkj750sk"
      },
      "source": [
        "# test_data = np.array(test_data)"
      ],
      "execution_count": null,
      "outputs": []
    },
    {
      "cell_type": "code",
      "metadata": {
        "colab": {
          "base_uri": "https://localhost:8080/"
        },
        "id": "bW37dptg56iJ",
        "outputId": "f732b9b0-2a31-4dd9-9c79-e93176cf244e"
      },
      "source": [
        "# test_data.shape"
      ],
      "execution_count": null,
      "outputs": [
        {
          "output_type": "execute_result",
          "data": {
            "text/plain": [
              "(98, 64, 64)"
            ]
          },
          "metadata": {},
          "execution_count": 26
        }
      ]
    },
    {
      "cell_type": "code",
      "metadata": {
        "id": "4daXoYbk56y7"
      },
      "source": [
        "# test_data = test_data.reshape(-1,64,64,1)"
      ],
      "execution_count": null,
      "outputs": []
    },
    {
      "cell_type": "code",
      "metadata": {
        "colab": {
          "base_uri": "https://localhost:8080/"
        },
        "id": "PNCsgEEK6M5z",
        "outputId": "7d74f91a-d0a3-4ce7-9db1-53f341f9f741"
      },
      "source": [
        "# test_data.shape"
      ],
      "execution_count": null,
      "outputs": [
        {
          "output_type": "execute_result",
          "data": {
            "text/plain": [
              "(98, 64, 64, 1)"
            ]
          },
          "metadata": {},
          "execution_count": 28
        }
      ]
    },
    {
      "cell_type": "code",
      "metadata": {
        "id": "wON-Kci4m-v9"
      },
      "source": [
        "# prediction = cnn.predict(test_data)"
      ],
      "execution_count": null,
      "outputs": []
    },
    {
      "cell_type": "code",
      "metadata": {
        "id": "ZeLTLvjF69Bm"
      },
      "source": [
        "# y_pred = []"
      ],
      "execution_count": null,
      "outputs": []
    },
    {
      "cell_type": "code",
      "metadata": {
        "id": "pXcw1WKa6xbY"
      },
      "source": [
        "# # for i in prediction:\n",
        "#   if i <0.5:\n",
        "#     y_pred.append(int(0))\n",
        "#   else:\n",
        "#     y_pred.append(int(1))"
      ],
      "execution_count": null,
      "outputs": []
    },
    {
      "cell_type": "code",
      "metadata": {
        "id": "R2a-jtdI6xoC"
      },
      "source": [
        "# y_pred = np.array(y_pred)"
      ],
      "execution_count": null,
      "outputs": []
    },
    {
      "cell_type": "code",
      "metadata": {
        "colab": {
          "base_uri": "https://localhost:8080/"
        },
        "id": "PEbDvAYP6x2n",
        "outputId": "16f51184-e3cb-4bb6-b09c-df1e37a0c799"
      },
      "source": [
        "# y_pred"
      ],
      "execution_count": null,
      "outputs": [
        {
          "output_type": "execute_result",
          "data": {
            "text/plain": [
              "array([0, 1, 1, 1, 1, 1, 0, 1, 1, 1, 1, 0, 1, 1, 1, 0, 0, 1, 0, 1, 0, 1,\n",
              "       0, 1, 0, 1, 0, 0, 1, 0, 1, 0, 1, 1, 1, 0, 1, 1, 1, 1, 1, 0, 0, 1,\n",
              "       0, 0, 0, 0, 0, 0, 1, 1, 0, 0, 0, 1, 0, 0, 1, 0, 0, 0, 0, 1, 1, 1,\n",
              "       0, 0, 1, 1, 1, 1, 1, 0, 0, 1, 1, 1, 0, 1, 0, 0, 0, 0, 1, 0, 0, 1,\n",
              "       0, 1, 1, 1, 0, 1, 0, 1, 0, 1])"
            ]
          },
          "metadata": {},
          "execution_count": 33
        }
      ]
    },
    {
      "cell_type": "code",
      "metadata": {
        "colab": {
          "base_uri": "https://localhost:8080/"
        },
        "id": "vOvfXFdWC-l7",
        "outputId": "2d2749c0-b46d-4eac-e909-2ac5086fa263"
      },
      "source": [
        "# y_pred"
      ],
      "execution_count": null,
      "outputs": [
        {
          "output_type": "execute_result",
          "data": {
            "text/plain": [
              "array([0, 1, 1, 0, 1, 1, 0, 0, 0, 1, 1, 1, 1, 1, 0, 1, 0, 1, 0, 1, 0, 1,\n",
              "       0, 1, 1, 1, 0, 0, 0, 1, 1, 0, 1, 0, 0, 0, 1, 1, 0, 1, 1, 0, 0, 1,\n",
              "       1, 0, 0, 1, 0, 0, 0, 1, 0, 0, 1, 0, 0, 1, 0, 1, 1, 1, 1, 1, 0, 0,\n",
              "       1, 0, 1, 1, 0, 0, 0, 1, 0, 0, 0, 0, 1, 1, 1, 0, 1, 1, 0, 1, 0, 0,\n",
              "       0, 1, 0, 1, 1, 0, 0, 1, 0, 1])"
            ]
          },
          "metadata": {},
          "execution_count": 33
        }
      ]
    },
    {
      "cell_type": "code",
      "metadata": {
        "colab": {
          "base_uri": "https://localhost:8080/"
        },
        "id": "RLfVH78Iy4UU",
        "outputId": "8b72058b-144e-40da-a627-2795de5f94d9"
      },
      "source": [
        "# y_pred.shape"
      ],
      "execution_count": null,
      "outputs": [
        {
          "output_type": "execute_result",
          "data": {
            "text/plain": [
              "(98,)"
            ]
          },
          "metadata": {},
          "execution_count": 34
        }
      ]
    },
    {
      "cell_type": "code",
      "metadata": {
        "colab": {
          "base_uri": "https://localhost:8080/",
          "height": 80
        },
        "id": "Uq8j4BJ2ac3V",
        "outputId": "465d4761-fcd3-4645-f591-eceb664c86d5"
      },
      "source": [
        "# cv2_imshow(test_data[3])"
      ],
      "execution_count": null,
      "outputs": [
        {
          "output_type": "display_data",
          "data": {
            "image/png": "[encoded data removed]",
            "text/plain": [
              "<PIL.Image.Image image mode=RGB size=64x64 at 0x7FE3EEA02C10>"
            ]
          },
          "metadata": {}
        }
      ]
    },
    {
      "cell_type": "code",
      "metadata": {
        "colab": {
          "base_uri": "https://localhost:8080/"
        },
        "id": "8P0t4ImhdZoe",
        "outputId": "0b1b501c-b636-4e07-c434-dc6b38868645"
      },
      "source": [
        "# y_pred[3]"
      ],
      "execution_count": null,
      "outputs": [
        {
          "output_type": "execute_result",
          "data": {
            "text/plain": [
              "0"
            ]
          },
          "metadata": {},
          "execution_count": 37
        }
      ]
    },
    {
      "cell_type": "code",
      "metadata": {
        "id": "7XaituqVdo8E"
      },
      "source": [
        "# import random\n",
        "# import json\n",
        "# # from utils.io import write_json\n",
        "\n",
        "# def write_json(filename, result):\n",
        "#     with open(filename, 'w') as outfile:\n",
        "#         json.dump(result, outfile)\n",
        "\n",
        "# def read_json(filename):\n",
        "#     with open(filename, 'r') as outfile:\n",
        "#         data =  json.load(outfile)\n",
        "#     return data\n",
        "\n",
        "# def generate_sample_file(filename):\n",
        "#     res = {}\n",
        "#     for i in range(1,100):\n",
        "#         test_set = str(i) + '.png'\n",
        "#         res[test_set] = 3\n",
        "\n",
        "#     write_json(filename, res)\n",
        "\n",
        "# if __name__ == '__main__':\n",
        "#     generate_sample_file('./result.json')"
      ],
      "execution_count": null,
      "outputs": []
    },
    {
      "cell_type": "code",
      "metadata": {
        "id": "lTtQemFid7kq"
      },
      "source": [
        "# for i in range(0,98):\n",
        "#   if y_pred[i] == 0:\n",
        "#     res = 'Negative'\n",
        "#   else:\n",
        "#     res = 'Positive'\n",
        "#   write_json(files[i],res)"
      ],
      "execution_count": null,
      "outputs": []
    },
    {
      "cell_type": "code",
      "metadata": {
        "id": "kXI2JG21t_b5"
      },
      "source": [
        "test_data = {}\n",
        "files = os.listdir(\"test\")\n",
        "for i in files:\n",
        "    img = cv2.imread(f'test/{i}')\n",
        "    gray = cv2.cvtColor(img, cv2.COLOR_BGR2GRAY)\n",
        "    test_data[i]=gray\n",
        "test_data1 = np.array(list(test_data.values()))\n",
        "test_data1 = test_data1.reshape(-1,64,64,1)"
      ],
      "execution_count": null,
      "outputs": []
    },
    {
      "cell_type": "code",
      "metadata": {
        "id": "8a2cbFF7uF9b"
      },
      "source": [
        "test_data1 = tf.keras.layers.UpSampling2D(size=(2, 2))(test_data1)"
      ],
      "execution_count": null,
      "outputs": []
    },
    {
      "cell_type": "code",
      "metadata": {
        "id": "Z-DKSq6luSNd"
      },
      "source": [
        "prediction = cnn.predict(test_data1)"
      ],
      "execution_count": null,
      "outputs": []
    },
    {
      "cell_type": "code",
      "metadata": {
        "colab": {
          "base_uri": "https://localhost:8080/"
        },
        "id": "Lxx48tcGuWVg",
        "outputId": "9b8ad50b-e13e-4542-c3e4-302bbf948c6a"
      },
      "source": [
        "for img,i in zip(list(test_data.keys()),prediction):\n",
        "  if i <0.5:\n",
        "    test_data[img] = 0\n",
        "  else:\n",
        "    test_data[img] = 1\n",
        "\n",
        "for elem in test_data : \n",
        "  print(elem,test_data[elem])"
      ],
      "execution_count": null,
      "outputs": [
        {
          "output_type": "stream",
          "name": "stdout",
          "text": [
            "34.jpg 0\n",
            "17.jpg 1\n",
            "92.jpg 1\n",
            "55.jpg 1\n",
            "41.jpg 0\n",
            "21.jpg 1\n",
            "27.jpg 1\n",
            "66.jpg 0\n",
            "11.jpg 1\n",
            "48.jpg 1\n",
            "94.jpg 1\n",
            "56.jpg 0\n",
            "82.jpg 1\n",
            "85.jpg 0\n",
            "18.jpg 0\n",
            "33.jpg 0\n",
            "47.jpg 0\n",
            "31.jpg 0\n",
            "79.jpg 0\n",
            "50.jpg 1\n",
            "15.jpg 1\n",
            "58.jpg 0\n",
            "52.jpg 1\n",
            "23.jpg 1\n",
            "61.jpg 1\n",
            "8.jpg 0\n",
            "39.jpg 0\n",
            "73.jpg 1\n",
            "64.jpg 0\n",
            "70.jpg 1\n",
            "4.jpg 0\n",
            "74.jpg 0\n",
            "81.jpg 1\n",
            "20.jpg 1\n",
            "93.jpg 1\n",
            "60.jpg 0\n",
            "43.jpg 0\n",
            "35.jpg 0\n",
            "22.jpg 1\n",
            "19.jpg 1\n",
            "80.jpg 0\n",
            "26.jpg 1\n",
            "7.jpg 1\n",
            "10.jpg 0\n",
            "49.jpg 0\n",
            "69.jpg 1\n",
            "16.jpg 0\n",
            "37.jpg 0\n",
            "25.jpg 1\n",
            "51.jpg 1\n",
            "1.jpg 1\n",
            "96.jpg 0\n",
            "3.jpg 1\n",
            "42.jpg 1\n",
            "44.jpg 1\n",
            "9.jpg 1\n",
            "30.jpg 1\n",
            "71.jpg 1\n",
            "45.jpg 0\n",
            "87.jpg 0\n",
            "12.jpg 0\n",
            "98.jpg 0\n",
            "24.jpg 1\n",
            "84.jpg 1\n",
            "72.jpg 1\n",
            "78.jpg 0\n",
            "2.jpg 0\n",
            "38.jpg 0\n",
            "91.jpg 1\n",
            "83.jpg 1\n",
            "88.jpg 0\n",
            "13.jpg 1\n",
            "29.jpg 1\n",
            "62.jpg 1\n",
            "90.jpg 1\n",
            "6.jpg 0\n",
            "65.jpg 0\n",
            "40.jpg 1\n",
            "14.jpg 0\n",
            "5.jpg 1\n",
            "77.jpg 0\n",
            "54.jpg 1\n",
            "86.jpg 0\n",
            "46.jpg 1\n",
            "68.jpg 1\n",
            "28.jpg 1\n",
            "89.jpg 0\n",
            "63.jpg 1\n",
            "53.jpg 1\n",
            "76.jpg 0\n",
            "59.jpg 0\n",
            "32.jpg 0\n",
            "75.jpg 0\n",
            "57.jpg 0\n",
            "95.jpg 0\n",
            "97.jpg 0\n",
            "67.jpg 1\n",
            "36.jpg 0\n"
          ]
        }
      ]
    },
    {
      "cell_type": "code",
      "metadata": {
        "id": "_zZjHxZBufX1"
      },
      "source": [
        "import json\n",
        "\n",
        "with open('output.json', 'w') as outfile:\n",
        "  json.dump(test_data, outfile)"
      ],
      "execution_count": null,
      "outputs": []
    },
    {
      "cell_type": "code",
      "metadata": {
        "id": "PWDxPEE9ukU2"
      },
      "source": [
        ""
      ],
      "execution_count": null,
      "outputs": []
    }
  ]
}