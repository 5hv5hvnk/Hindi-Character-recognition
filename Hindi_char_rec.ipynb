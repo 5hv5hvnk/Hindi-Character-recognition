{
  "nbformat": 4,
  "nbformat_minor": 0,
  "metadata": {
    "colab": {
      "name": "Hindi_char_rec.ipynb",
      "provenance": []
    },
    "kernelspec": {
      "name": "python3",
      "display_name": "Python 3"
    },
    "language_info": {
      "name": "python"
    }
  },
  "cells": [
    {
      "cell_type": "code",
      "metadata": {
        "id": "oyqHPUVWkqK-"
      },
      "source": [
        "from numpy import loadtxt\n",
        "from xgboost import XGBClassifier\n",
        "from sklearn.model_selection import train_test_split\n",
        "from sklearn.metrics import accuracy_score\n",
        "import cv2\n",
        "import numpy as np"
      ],
      "execution_count": 1,
      "outputs": []
    },
    {
      "cell_type": "code",
      "metadata": {
        "id": "bwUE1gS-gmhh"
      },
      "source": [
        "import os\n",
        "from PIL import Image\n",
        "import numpy as np"
      ],
      "execution_count": 2,
      "outputs": []
    },
    {
      "cell_type": "code",
      "metadata": {
        "id": "PorKgYYZhwvW"
      },
      "source": [
        "x = []"
      ],
      "execution_count": 3,
      "outputs": []
    },
    {
      "cell_type": "code",
      "metadata": {
        "id": "ETwiLmd4hZNn"
      },
      "source": [
        "files = os.listdir(\"training/background\")\n",
        "for i in files:\n",
        "  if i != '.DS_Store':\n",
        "    i = 'training/background/'+i\n",
        "    img = cv2.imread(i)\n",
        "    gray = cv2.cvtColor(img, cv2.COLOR_BGR2GRAY)\n",
        "    x.append(gray)"
      ],
      "execution_count": 4,
      "outputs": []
    },
    {
      "cell_type": "code",
      "metadata": {
        "id": "yeq6p34Hg53X"
      },
      "source": [
        "files = os.listdir(\"training/hi\")\n",
        "for i in files:\n",
        "  if i != '.DS_Store':\n",
        "    i = 'training/hi/'+i\n",
        "    img = cv2.imread(i)\n",
        "    gray = cv2.cvtColor(img, cv2.COLOR_BGR2GRAY)\n",
        "    x.append(gray)"
      ],
      "execution_count": 5,
      "outputs": []
    },
    {
      "cell_type": "code",
      "metadata": {
        "colab": {
          "base_uri": "https://localhost:8080/"
        },
        "id": "aQrwdLF3hObv",
        "outputId": "fe84e2c8-c0f0-4776-ac96-8bd0dc835fb6"
      },
      "source": [
        "type(x[0])"
      ],
      "execution_count": 6,
      "outputs": [
        {
          "output_type": "execute_result",
          "data": {
            "text/plain": [
              "numpy.ndarray"
            ]
          },
          "metadata": {},
          "execution_count": 6
        }
      ]
    },
    {
      "cell_type": "code",
      "metadata": {
        "colab": {
          "base_uri": "https://localhost:8080/"
        },
        "id": "Gls3MkNUhPrt",
        "outputId": "83409d76-2237-4415-f743-ed74f76f8c07"
      },
      "source": [
        "len(x)"
      ],
      "execution_count": 7,
      "outputs": [
        {
          "output_type": "execute_result",
          "data": {
            "text/plain": [
              "5875"
            ]
          },
          "metadata": {},
          "execution_count": 7
        }
      ]
    },
    {
      "cell_type": "code",
      "metadata": {
        "id": "P1H8Fq6UhUNm"
      },
      "source": [
        "x = np.array(x)"
      ],
      "execution_count": 8,
      "outputs": []
    },
    {
      "cell_type": "code",
      "metadata": {
        "colab": {
          "base_uri": "https://localhost:8080/"
        },
        "id": "lquc41FohhUe",
        "outputId": "b5ca0119-5634-4a34-e9b1-db1e2da6ff85"
      },
      "source": [
        "x.shape"
      ],
      "execution_count": 9,
      "outputs": [
        {
          "output_type": "execute_result",
          "data": {
            "text/plain": [
              "(5875, 64, 64)"
            ]
          },
          "metadata": {},
          "execution_count": 9
        }
      ]
    },
    {
      "cell_type": "code",
      "metadata": {
        "id": "ES__Fk86iyuY"
      },
      "source": [
        "y = []\n",
        "for i in range(0,4450):\n",
        "  y.append(int(0)) #for bg\n",
        "for i in range(4450,5875):\n",
        "  y.append(int(1)) #for text"
      ],
      "execution_count": 10,
      "outputs": []
    },
    {
      "cell_type": "code",
      "metadata": {
        "id": "8g1Y3tmgjS3R"
      },
      "source": [
        "y = np.array(y)"
      ],
      "execution_count": 11,
      "outputs": []
    },
    {
      "cell_type": "code",
      "metadata": {
        "colab": {
          "base_uri": "https://localhost:8080/"
        },
        "id": "LEqhE8cwjUzn",
        "outputId": "bd2c3403-3339-49cf-a9a3-f37a9ddb1795"
      },
      "source": [
        "y.shape"
      ],
      "execution_count": 12,
      "outputs": [
        {
          "output_type": "execute_result",
          "data": {
            "text/plain": [
              "(5875,)"
            ]
          },
          "metadata": {},
          "execution_count": 12
        }
      ]
    },
    {
      "cell_type": "code",
      "metadata": {
        "id": "n3TWh5s3jVmv"
      },
      "source": [
        "x_train, x_test, y_train, y_test = train_test_split(x, y, test_size=0.30, random_state=314)"
      ],
      "execution_count": 13,
      "outputs": []
    },
    {
      "cell_type": "code",
      "metadata": {
        "colab": {
          "base_uri": "https://localhost:8080/"
        },
        "id": "ejZtzfimjoiT",
        "outputId": "690d698a-b591-4c79-e3f7-1246a9ea4fee"
      },
      "source": [
        "x_train.shape"
      ],
      "execution_count": 14,
      "outputs": [
        {
          "output_type": "execute_result",
          "data": {
            "text/plain": [
              "(4112, 64, 64)"
            ]
          },
          "metadata": {},
          "execution_count": 14
        }
      ]
    },
    {
      "cell_type": "code",
      "metadata": {
        "colab": {
          "base_uri": "https://localhost:8080/"
        },
        "id": "xNE1S2H-jqWi",
        "outputId": "3daeaa5a-5268-4d8b-e4de-5e3863aa443c"
      },
      "source": [
        "y_train.shape"
      ],
      "execution_count": 15,
      "outputs": [
        {
          "output_type": "execute_result",
          "data": {
            "text/plain": [
              "(4112,)"
            ]
          },
          "metadata": {},
          "execution_count": 15
        }
      ]
    },
    {
      "cell_type": "code",
      "metadata": {
        "id": "u881gibskJLA"
      },
      "source": [
        "from google.colab.patches import cv2_imshow"
      ],
      "execution_count": 16,
      "outputs": []
    },
    {
      "cell_type": "code",
      "metadata": {
        "colab": {
          "base_uri": "https://localhost:8080/",
          "height": 80
        },
        "id": "ZWvWK8wdjr4m",
        "outputId": "8d708372-79f5-40b3-fea6-b1b60fa686d6"
      },
      "source": [
        "cv2_imshow(x_train[1])"
      ],
      "execution_count": 17,
      "outputs": [
        {
          "output_type": "display_data",
          "data": {
            "image/png": "[encoded data removed]",
            "text/plain": [
              "<PIL.Image.Image image mode=L size=64x64 at 0x7F503BD91BD0>"
            ]
          },
          "metadata": {}
        }
      ]
    },
    {
      "cell_type": "code",
      "metadata": {
        "colab": {
          "base_uri": "https://localhost:8080/"
        },
        "id": "mx3K9hPmj0Ve",
        "outputId": "cc4fa544-b64b-4501-8aac-dd85f096302e"
      },
      "source": [
        "y_train[1]"
      ],
      "execution_count": 18,
      "outputs": [
        {
          "output_type": "execute_result",
          "data": {
            "text/plain": [
              "1"
            ]
          },
          "metadata": {},
          "execution_count": 18
        }
      ]
    },
    {
      "cell_type": "code",
      "metadata": {
        "id": "hvk6xQi02BSX"
      },
      "source": [
        "x_train = x_train.reshape(-1,64,64,1)\n",
        "x_test = x_test.reshape(-1,64,64,1)"
      ],
      "execution_count": 24,
      "outputs": []
    },
    {
      "cell_type": "code",
      "metadata": {
        "id": "mbfEt-Rfk0lY"
      },
      "source": [
        "from tensorflow.keras import datasets, layers, models\n",
        "import tensorflow as tf\n",
        "import keras\n",
        "from tensorflow.keras.optimizers import Adam"
      ],
      "execution_count": 19,
      "outputs": []
    },
    {
      "cell_type": "code",
      "metadata": {
        "id": "eRd1RGKkkaxz"
      },
      "source": [
        "cnn = models.Sequential([\n",
        "    layers.Conv2D(filters=16, kernel_size=(3, 3), activation='relu', input_shape=(64, 64,1)), #layer 1\n",
        "    layers.MaxPooling2D((2, 2)),\n",
        "    layers.Dropout(0.25),\n",
        "\n",
        "    layers.Conv2D(filters=32, kernel_size=(3, 3), activation='relu'), #layer 2\n",
        "    layers.MaxPooling2D((2, 2)),\n",
        "    layers.Dropout(0.25),\n",
        "    \n",
        "    layers.Conv2D(filters=64, kernel_size=(3, 3), activation='relu'), #layer 3\n",
        "    layers.MaxPooling2D((2, 2)),\n",
        "    layers.Dropout(0.25),\n",
        "    \n",
        "    layers.Conv2D(filters=128, kernel_size=(3, 3), activation='relu'), #layer 4\n",
        "    layers.MaxPooling2D((2, 2)),\n",
        "\n",
        "    layers.Flatten(),\n",
        "    # layers.Dense(80, activation='relu'), ##reducing nodes\n",
        "    layers.Dense(80, activation='relu'), ##reducing nodes\n",
        "    layers.Dense(30, activation='relu'), ##reducing nodes\n",
        "    layers.Dropout(0.3),\n",
        "    layers.Dense(1, activation='sigmoid')\n",
        "])\n",
        "# lr_schedule = keras.optimizers.schedules.ExponentialDecay(\n",
        "#     initial_learning_rate=1e-2,\n",
        "#     decay_steps=10000,\n",
        "#     decay_rate=0.9)\n",
        "opt = Adam(learning_rate=0.001)\n",
        "cnn.compile(optimizer=opt, \n",
        "              loss='binary_crossentropy',\n",
        "              metrics=['accuracy'])"
      ],
      "execution_count": 25,
      "outputs": []
    },
    {
      "cell_type": "code",
      "metadata": {
        "colab": {
          "base_uri": "https://localhost:8080/"
        },
        "id": "FDWfXe_Ll2yp",
        "outputId": "c7dd3ac3-c879-4c96-cba9-c3bcb3cc8cf5"
      },
      "source": [
        "cnn.fit(x_train, y_train, epochs=50, batch_size = 64, validation_data=(x_test, y_test))"
      ],
      "execution_count": 26,
      "outputs": [
        {
          "output_type": "stream",
          "text": [
            "Epoch 1/50\n",
            "65/65 [==============================] - 14s 211ms/step - loss: 2.0412 - accuracy: 0.6727 - val_loss: 0.6187 - val_accuracy: 0.7465\n",
            "Epoch 2/50\n",
            "65/65 [==============================] - 13s 204ms/step - loss: 0.5644 - accuracy: 0.7434 - val_loss: 0.5793 - val_accuracy: 0.7453\n",
            "Epoch 3/50\n",
            "65/65 [==============================] - 13s 203ms/step - loss: 0.5344 - accuracy: 0.7554 - val_loss: 0.5465 - val_accuracy: 0.7533\n",
            "Epoch 4/50\n",
            "65/65 [==============================] - 13s 203ms/step - loss: 0.4640 - accuracy: 0.7889 - val_loss: 0.4440 - val_accuracy: 0.8429\n",
            "Epoch 5/50\n",
            "65/65 [==============================] - 13s 203ms/step - loss: 0.3843 - accuracy: 0.8504 - val_loss: 0.4109 - val_accuracy: 0.8690\n",
            "Epoch 6/50\n",
            "65/65 [==============================] - 13s 203ms/step - loss: 0.3199 - accuracy: 0.8811 - val_loss: 0.3718 - val_accuracy: 0.8939\n",
            "Epoch 7/50\n",
            "65/65 [==============================] - 13s 203ms/step - loss: 0.2816 - accuracy: 0.9008 - val_loss: 0.3116 - val_accuracy: 0.9081\n",
            "Epoch 8/50\n",
            "65/65 [==============================] - 13s 202ms/step - loss: 0.2714 - accuracy: 0.9059 - val_loss: 0.3108 - val_accuracy: 0.9144\n",
            "Epoch 9/50\n",
            "65/65 [==============================] - 13s 202ms/step - loss: 0.2318 - accuracy: 0.9212 - val_loss: 0.3763 - val_accuracy: 0.8860\n",
            "Epoch 10/50\n",
            "65/65 [==============================] - 13s 203ms/step - loss: 0.2348 - accuracy: 0.9195 - val_loss: 0.3340 - val_accuracy: 0.9007\n",
            "Epoch 11/50\n",
            "65/65 [==============================] - 13s 204ms/step - loss: 0.2349 - accuracy: 0.9185 - val_loss: 0.3281 - val_accuracy: 0.9070\n",
            "Epoch 12/50\n",
            "65/65 [==============================] - 13s 205ms/step - loss: 0.2341 - accuracy: 0.9217 - val_loss: 0.3445 - val_accuracy: 0.9098\n",
            "Epoch 13/50\n",
            "65/65 [==============================] - 13s 205ms/step - loss: 0.2030 - accuracy: 0.9329 - val_loss: 0.3034 - val_accuracy: 0.9149\n",
            "Epoch 14/50\n",
            "65/65 [==============================] - 13s 204ms/step - loss: 0.2097 - accuracy: 0.9304 - val_loss: 0.2357 - val_accuracy: 0.9365\n",
            "Epoch 15/50\n",
            "65/65 [==============================] - 13s 204ms/step - loss: 0.2107 - accuracy: 0.9302 - val_loss: 0.2519 - val_accuracy: 0.9319\n",
            "Epoch 16/50\n",
            "65/65 [==============================] - 13s 204ms/step - loss: 0.1878 - accuracy: 0.9380 - val_loss: 0.2540 - val_accuracy: 0.9331\n",
            "Epoch 17/50\n",
            "65/65 [==============================] - 13s 203ms/step - loss: 0.1771 - accuracy: 0.9385 - val_loss: 0.2302 - val_accuracy: 0.9365\n",
            "Epoch 18/50\n",
            "65/65 [==============================] - 13s 204ms/step - loss: 0.1796 - accuracy: 0.9377 - val_loss: 0.2121 - val_accuracy: 0.9399\n",
            "Epoch 19/50\n",
            "65/65 [==============================] - 13s 202ms/step - loss: 0.1713 - accuracy: 0.9385 - val_loss: 0.2183 - val_accuracy: 0.9438\n",
            "Epoch 20/50\n",
            "65/65 [==============================] - 13s 203ms/step - loss: 0.1779 - accuracy: 0.9385 - val_loss: 0.2468 - val_accuracy: 0.9263\n",
            "Epoch 21/50\n",
            "65/65 [==============================] - 13s 202ms/step - loss: 0.1502 - accuracy: 0.9448 - val_loss: 0.1817 - val_accuracy: 0.9472\n",
            "Epoch 22/50\n",
            "65/65 [==============================] - 13s 203ms/step - loss: 0.1412 - accuracy: 0.9477 - val_loss: 0.1909 - val_accuracy: 0.9535\n",
            "Epoch 23/50\n",
            "65/65 [==============================] - 13s 203ms/step - loss: 0.1361 - accuracy: 0.9501 - val_loss: 0.1666 - val_accuracy: 0.9575\n",
            "Epoch 24/50\n",
            "65/65 [==============================] - 13s 203ms/step - loss: 0.1416 - accuracy: 0.9487 - val_loss: 0.1490 - val_accuracy: 0.9501\n",
            "Epoch 25/50\n",
            "65/65 [==============================] - 13s 204ms/step - loss: 0.1233 - accuracy: 0.9533 - val_loss: 0.1569 - val_accuracy: 0.9626\n",
            "Epoch 26/50\n",
            "65/65 [==============================] - 13s 202ms/step - loss: 0.1195 - accuracy: 0.9579 - val_loss: 0.1459 - val_accuracy: 0.9563\n",
            "Epoch 27/50\n",
            "65/65 [==============================] - 13s 202ms/step - loss: 0.1205 - accuracy: 0.9582 - val_loss: 0.1838 - val_accuracy: 0.9433\n",
            "Epoch 28/50\n",
            "65/65 [==============================] - 13s 202ms/step - loss: 0.1357 - accuracy: 0.9533 - val_loss: 0.1391 - val_accuracy: 0.9586\n",
            "Epoch 29/50\n",
            "65/65 [==============================] - 13s 203ms/step - loss: 0.1029 - accuracy: 0.9655 - val_loss: 0.1035 - val_accuracy: 0.9654\n",
            "Epoch 30/50\n",
            "65/65 [==============================] - 13s 204ms/step - loss: 0.1062 - accuracy: 0.9650 - val_loss: 0.1046 - val_accuracy: 0.9688\n",
            "Epoch 31/50\n",
            "65/65 [==============================] - 13s 203ms/step - loss: 0.1083 - accuracy: 0.9599 - val_loss: 0.0949 - val_accuracy: 0.9733\n",
            "Epoch 32/50\n",
            "65/65 [==============================] - 13s 203ms/step - loss: 0.0977 - accuracy: 0.9660 - val_loss: 0.1279 - val_accuracy: 0.9654\n",
            "Epoch 33/50\n",
            "65/65 [==============================] - 13s 201ms/step - loss: 0.1097 - accuracy: 0.9635 - val_loss: 0.1371 - val_accuracy: 0.9580\n",
            "Epoch 34/50\n",
            "65/65 [==============================] - 13s 202ms/step - loss: 0.0941 - accuracy: 0.9672 - val_loss: 0.0919 - val_accuracy: 0.9688\n",
            "Epoch 35/50\n",
            "65/65 [==============================] - 13s 202ms/step - loss: 0.0773 - accuracy: 0.9698 - val_loss: 0.0977 - val_accuracy: 0.9682\n",
            "Epoch 36/50\n",
            "65/65 [==============================] - 13s 203ms/step - loss: 0.0804 - accuracy: 0.9728 - val_loss: 0.0955 - val_accuracy: 0.9722\n",
            "Epoch 37/50\n",
            "65/65 [==============================] - 13s 204ms/step - loss: 0.1022 - accuracy: 0.9674 - val_loss: 0.0936 - val_accuracy: 0.9722\n",
            "Epoch 38/50\n",
            "65/65 [==============================] - 13s 204ms/step - loss: 0.0673 - accuracy: 0.9754 - val_loss: 0.1260 - val_accuracy: 0.9478\n",
            "Epoch 39/50\n",
            "65/65 [==============================] - 13s 205ms/step - loss: 0.0829 - accuracy: 0.9725 - val_loss: 0.1200 - val_accuracy: 0.9643\n",
            "Epoch 40/50\n",
            "65/65 [==============================] - 13s 204ms/step - loss: 0.0854 - accuracy: 0.9694 - val_loss: 0.0766 - val_accuracy: 0.9739\n",
            "Epoch 41/50\n",
            "65/65 [==============================] - 13s 204ms/step - loss: 0.0587 - accuracy: 0.9764 - val_loss: 0.0740 - val_accuracy: 0.9682\n",
            "Epoch 42/50\n",
            "65/65 [==============================] - 13s 203ms/step - loss: 0.0571 - accuracy: 0.9784 - val_loss: 0.0679 - val_accuracy: 0.9750\n",
            "Epoch 43/50\n",
            "65/65 [==============================] - 13s 203ms/step - loss: 0.0488 - accuracy: 0.9815 - val_loss: 0.0555 - val_accuracy: 0.9779\n",
            "Epoch 44/50\n",
            "65/65 [==============================] - 13s 202ms/step - loss: 0.0520 - accuracy: 0.9822 - val_loss: 0.0910 - val_accuracy: 0.9762\n",
            "Epoch 45/50\n",
            "65/65 [==============================] - 13s 204ms/step - loss: 0.0802 - accuracy: 0.9750 - val_loss: 0.1395 - val_accuracy: 0.9444\n",
            "Epoch 46/50\n",
            "65/65 [==============================] - 13s 203ms/step - loss: 0.0752 - accuracy: 0.9801 - val_loss: 0.0698 - val_accuracy: 0.9779\n",
            "Epoch 47/50\n",
            "65/65 [==============================] - 13s 203ms/step - loss: 0.0433 - accuracy: 0.9844 - val_loss: 0.0549 - val_accuracy: 0.9807\n",
            "Epoch 48/50\n",
            "65/65 [==============================] - 13s 203ms/step - loss: 0.0511 - accuracy: 0.9815 - val_loss: 0.0719 - val_accuracy: 0.9750\n",
            "Epoch 49/50\n",
            "65/65 [==============================] - 13s 202ms/step - loss: 0.0491 - accuracy: 0.9842 - val_loss: 0.0511 - val_accuracy: 0.9773\n",
            "Epoch 50/50\n",
            "65/65 [==============================] - 13s 203ms/step - loss: 0.0868 - accuracy: 0.9711 - val_loss: 0.0841 - val_accuracy: 0.9807\n"
          ],
          "name": "stdout"
        },
        {
          "output_type": "execute_result",
          "data": {
            "text/plain": [
              "<keras.callbacks.History at 0x7f4ff7c69850>"
            ]
          },
          "metadata": {},
          "execution_count": 26
        }
      ]
    },
    {
      "cell_type": "code",
      "metadata": {
        "id": "91QFf4545Jng"
      },
      "source": [
        "test_data = []\n",
        "files = os.listdir(\"test\")\n",
        "for i in files:\n",
        "  if i != '.DS_Store':\n",
        "    i = 'test/'+i\n",
        "    img = cv2.imread(i)\n",
        "    gray = cv2.cvtColor(img, cv2.COLOR_BGR2GRAY)\n",
        "    test_data.append(gray)"
      ],
      "execution_count": 27,
      "outputs": []
    },
    {
      "cell_type": "code",
      "metadata": {
        "id": "Lmrmkkj750sk"
      },
      "source": [
        "test_data = np.array(test_data)"
      ],
      "execution_count": 31,
      "outputs": []
    },
    {
      "cell_type": "code",
      "metadata": {
        "colab": {
          "base_uri": "https://localhost:8080/"
        },
        "id": "bW37dptg56iJ",
        "outputId": "ab3a5b34-545d-4c89-9b86-02790cb46d31"
      },
      "source": [
        "test_data.shape"
      ],
      "execution_count": 32,
      "outputs": [
        {
          "output_type": "execute_result",
          "data": {
            "text/plain": [
              "(98, 64, 64)"
            ]
          },
          "metadata": {},
          "execution_count": 32
        }
      ]
    },
    {
      "cell_type": "code",
      "metadata": {
        "id": "4daXoYbk56y7"
      },
      "source": [
        "test_data = test_data.reshape(-1,64,64,1)"
      ],
      "execution_count": 33,
      "outputs": []
    },
    {
      "cell_type": "code",
      "metadata": {
        "colab": {
          "base_uri": "https://localhost:8080/"
        },
        "id": "PNCsgEEK6M5z",
        "outputId": "85dddc48-9ff2-431e-d3c6-5ee3d9964b0d"
      },
      "source": [
        "test_data.shape"
      ],
      "execution_count": 37,
      "outputs": [
        {
          "output_type": "execute_result",
          "data": {
            "text/plain": [
              "(98, 64, 64, 1)"
            ]
          },
          "metadata": {},
          "execution_count": 37
        }
      ]
    },
    {
      "cell_type": "code",
      "metadata": {
        "id": "wON-Kci4m-v9"
      },
      "source": [
        "prediction = cnn.predict(test_data)"
      ],
      "execution_count": 39,
      "outputs": []
    },
    {
      "cell_type": "code",
      "metadata": {
        "id": "ZeLTLvjF69Bm"
      },
      "source": [
        "y_pred = []"
      ],
      "execution_count": 41,
      "outputs": []
    },
    {
      "cell_type": "code",
      "metadata": {
        "id": "pXcw1WKa6xbY"
      },
      "source": [
        "for i in prediction:\n",
        "  if i <0.5:\n",
        "    y_pred.append(int(0))\n",
        "  else:\n",
        "    y_pred.append(int(1))"
      ],
      "execution_count": 43,
      "outputs": []
    },
    {
      "cell_type": "code",
      "metadata": {
        "id": "R2a-jtdI6xoC"
      },
      "source": [
        "y_pred = np.array(y_pred)"
      ],
      "execution_count": 45,
      "outputs": []
    },
    {
      "cell_type": "code",
      "metadata": {
        "colab": {
          "base_uri": "https://localhost:8080/"
        },
        "id": "PEbDvAYP6x2n",
        "outputId": "642495ad-c8be-49c2-a568-2413beb12665"
      },
      "source": [
        "y_pred"
      ],
      "execution_count": 47,
      "outputs": [
        {
          "output_type": "execute_result",
          "data": {
            "text/plain": [
              "array([0, 1, 0, 1, 1, 1, 0, 1, 1, 1, 1, 0, 1, 1, 1, 0, 0, 1, 0, 1, 0, 1,\n",
              "       0, 1, 0, 1, 0, 0, 1, 0, 1, 0, 1, 1, 1, 0, 1, 1, 1, 1, 0, 0, 0, 1,\n",
              "       0, 0, 0, 0, 0, 0, 1, 1, 0, 0, 0, 1, 0, 0, 1, 0, 0, 0, 0, 1, 1, 1,\n",
              "       1, 0, 1, 1, 1, 1, 1, 0, 0, 1, 1, 1, 0, 1, 0, 0, 0, 0, 1, 0, 0, 1,\n",
              "       0, 1, 1, 1, 0, 1, 0, 0, 0, 1])"
            ]
          },
          "metadata": {},
          "execution_count": 47
        }
      ]
    },
    {
      "cell_type": "code",
      "metadata": {
        "id": "RLfVH78Iy4UU"
      },
      "source": [
        ""
      ],
      "execution_count": null,
      "outputs": []
    }
  ]
}